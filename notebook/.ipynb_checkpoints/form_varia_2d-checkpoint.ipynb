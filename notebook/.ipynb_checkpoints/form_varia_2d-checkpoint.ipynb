{
 "cells": [
  {
   "cell_type": "code",
   "execution_count": 1,
   "metadata": {},
   "outputs": [],
   "source": [
    "%matplotlib inline"
   ]
  },
  {
   "cell_type": "code",
   "execution_count": 2,
   "metadata": {},
   "outputs": [],
   "source": [
    "import matplotlib.pyplot as plt\n",
    "plt.rcParams['mathtext.fontset'] = 'cm'\n",
    "plt.rcParams['font.family'] = ['Linux Libertine']\n",
    "import numpy as np\n",
    "import itertools"
   ]
  },
  {
   "cell_type": "markdown",
   "metadata": {},
   "source": [
    "On se propose de résoudre un problème aux limites de Dirichlet\n",
    "$$\n",
    "\\begin{cases}\n",
    "-\\Delta u + \\lambda u = f & \\text{dans }\\Omega = (0,L)^2 \\\\\n",
    "u = 0 &\\text{sur }\\partial\\Omega\n",
    "\\end{cases}\n",
    "$$"
   ]
  },
  {
   "cell_type": "markdown",
   "metadata": {},
   "source": [
    "Sa formulation variationnelle est\n",
    "$$\\forall \\phi\\in V_0,\\quad\n",
    "\\int_\\Omega \\nabla u\\cdot\\nabla\\phi + \\lambda\\int_\\Omega u\\phi = \\int_\\Omega f\\phi\n",
    "$$\n",
    "où $V_0 := \\{v\\in\\mathcal C^1(\\Omega)\\,\\mid\\, \\phi=0\\text{ et }\\partial\\Omega\\} $ une fonction test."
   ]
  },
  {
   "cell_type": "code",
   "execution_count": 3,
   "metadata": {},
   "outputs": [],
   "source": [
    "L = 1\n",
    "N = 50\n",
    "dx = L/N\n",
    "xrange = np.linspace(0,L,N+1)\n",
    "yrange = xrange.copy().reshape(-1,1)"
   ]
  },
  {
   "cell_type": "code",
   "execution_count": 4,
   "metadata": {},
   "outputs": [],
   "source": [
    "def phi(x,n=None):\n",
    "    if n is None:\n",
    "        return np.maximum(0,1 - np.absolute(x))\n",
    "    else:\n",
    "        return phi((x-xrange[n])/dx)"
   ]
  },
  {
   "cell_type": "markdown",
   "metadata": {},
   "source": [
    "Donc, avec une solution $u(x,y) = \\sum_{i=0}^N u_{i,j}\\phi_i(x)\\phi_j(y)$,\n",
    "$$\n",
    "\\sum_{i=0}^N u_{i,j} \\int_\\Omega (\\nabla(\\phi_i\\otimes\\phi_j)\\cdot\\nabla(\\phi_k\\otimes\\phi_l) + \\lambda (\\phi_i\\otimes\\phi_j)(\\phi_k\\otimes\\phi_l)) = \\int_\\Omega f\\phi_k\\otimes\\phi_l\n",
    "$$"
   ]
  },
  {
   "cell_type": "markdown",
   "metadata": {},
   "source": [
    "Remarquons que $\\nabla(\\phi_i\\otimes\\phi_j)\\cdot\\nabla(\\phi_k\\otimes\\phi_l) = \\phi_i'(x)\\phi_k'(x)\\phi_j(y)\\phi_l(y) + \\phi_i(x)\\phi_k(x)\\phi_j'(y)\\phi_l'(y)$.\n",
    "\n",
    "Définissons la matrice de rigidité $\\mathcal K_h = \\left(\\int_0^L\\phi_i'\\phi_k' \\right)_{i,k}$ et la matrice de masse $\\mathcal M_h = \\left(\\int_0^L \\phi_i\\phi_k\\right)_{i,k}$.\n",
    "\n",
    "Le système linéaire ci-dessus se réécrit donc\n",
    "$$\n",
    "\\forall k,l\\in\\{0,\\ldots,N\\}\\quad\n",
    "\\sum_{i,j} u_{i,j}(\\mathcal K_{i,k}\\mathcal M_{j,l} + \\mathcal M_{i,k}\\mathcal K_{j,l} + \\lambda\\mathcal M_{i,k}\\mathcal M_{j,l} ) = F_{k,l}\n",
    "$$"
   ]
  },
  {
   "cell_type": "markdown",
   "metadata": {},
   "source": [
    "On remplace $U\\in\\mathbb R^{N+1}$ par $\\tilde U\\in\\mathbb R^{N+1}$ avec $\\tilde u_{i+Nj} = u_{i,j}$. Idem pour $F$."
   ]
  },
  {
   "cell_type": "markdown",
   "metadata": {},
   "source": [
    "La matrice associée sera $A$ où $A_{i+Nj,k+Nl} = \\mathcal K_{i,k}\\mathcal M_{j,l} + \\mathcal M_{i,k}\\mathcal K_{j,l} + \\mathcal M_{i,k}\\mathcal M_{j,l}$."
   ]
  },
  {
   "cell_type": "markdown",
   "metadata": {},
   "source": [
    "On note $\\phi(x) = \\max(0,1-|x|)$ et\n",
    "$$\n",
    "\\phi_i(x) = \\phi\\left(\\frac{x-x_i}{h}\\right).\n",
    "$$"
   ]
  },
  {
   "cell_type": "markdown",
   "metadata": {},
   "source": [
    "La matrice de rigidité $\\mathcal K_h$ est une matrice de Toeplitz:"
   ]
  },
  {
   "cell_type": "code",
   "execution_count": 5,
   "metadata": {},
   "outputs": [],
   "source": [
    "from scipy.linalg import toeplitz\n",
    "rigidx = (1/dx)*toeplitz([2,-1] + [0 for _ in range(N-1)])"
   ]
  },
  {
   "cell_type": "markdown",
   "metadata": {},
   "source": [
    "La matrice de masse $\\mathcal M_h$ est aussi tridiagonale:"
   ]
  },
  {
   "cell_type": "code",
   "execution_count": 6,
   "metadata": {},
   "outputs": [],
   "source": [
    "massex = dx*toeplitz([2/3,1/6] + [0 for _ in range(N-1)])"
   ]
  },
  {
   "cell_type": "code",
   "execution_count": 7,
   "metadata": {},
   "outputs": [],
   "source": [
    "import numba"
   ]
  },
  {
   "cell_type": "code",
   "execution_count": 8,
   "metadata": {},
   "outputs": [],
   "source": [
    "@numba.jit(nopython=True)\n",
    "def make_A(lmda):\n",
    "    A = np.zeros(((N+1)**2,(N+1)**2))\n",
    "    for i in range(N+1):\n",
    "        for j in range(N+1):\n",
    "            for k in range(N+1):\n",
    "                for l in range(N+1):\n",
    "                    A[i+(N+1)*j,k+(N+1)*l] = massex[i,k]*rigidx[j,l] + rigidx[i,k]*massex[j,l] + lmda*massex[i,k]*massex[j,l]\n",
    "    return A"
   ]
  },
  {
   "cell_type": "markdown",
   "metadata": {},
   "source": [
    "On définit une fonction réalisant une méthode des trapèzes:\n",
    "$$\n",
    "\\int_a^b g(x)\\,dx \\approx \\frac{b-a}{p+1} \\left(\n",
    "\\frac 12\\left(g(a) + g(b)\\right) +\n",
    "\\sum_{k=0}^p \\left(g(x_{k-1})+g(x_{k+1})\\right)\n",
    "\\right)\n",
    "$$"
   ]
  },
  {
   "cell_type": "code",
   "execution_count": 9,
   "metadata": {},
   "outputs": [],
   "source": [
    "def quad_trapz(g,a,b,p):\n",
    "    step = (b-a)/(p+1)\n",
    "    first_term = 0.5*(g(a)+g(b))\n",
    "    second_term = np.sum(g(a+k*step) for k in range(1,p))\n",
    "    return step*(first_term + second_term)"
   ]
  },
  {
   "cell_type": "code",
   "execution_count": 10,
   "metadata": {},
   "outputs": [],
   "source": [
    "def coeffs_from_f(f):\n",
    "    res = []\n",
    "    \n",
    "    p = 4\n",
    "    res.append(quad_trapz(lambda x: f(x)*phi(x,0),xrange[0],xrange[1],p))\n",
    "    for n in range(1,N):    \n",
    "        res.append(\n",
    "            quad_trapz(lambda x: f(x)*phi(x,n),xrange[n-1],xrange[n+1],p)\n",
    "        )\n",
    "    res.append(quad_trapz(lambda x: f(x)*phi(x,N),xrange[N-1],xrange[N],p))\n",
    "    return np.array(res)"
   ]
  },
  {
   "cell_type": "markdown",
   "metadata": {},
   "source": [
    "La fonction suivante définit la fonction f du second membre, sous la forme\n",
    "$$\n",
    "f(x,y) = f_1\\otimes f_2\n",
    "$$"
   ]
  },
  {
   "cell_type": "code",
   "execution_count": 11,
   "metadata": {},
   "outputs": [],
   "source": [
    "def make_f():\n",
    "    import sympy as sp\n",
    "    from sympy.abc import x\n",
    "    expr1 = sp.exp(x)\n",
    "    expr2 = sp.cos(x**2)\n",
    "    return (sp.lambdify(x, expr1,[\"numpy\"]), \n",
    "            sp.lambdify(x, expr2,[\"numpy\"]))\n",
    "f,g = make_f()\n",
    "coeffsF = coeffs_from_f(f)\n",
    "coeffsG = coeffs_from_f(g)\n",
    "\n",
    "coeffsF_bis = np.zeros((N+1)**2)\n",
    "for i in range(N+1):\n",
    "    for j in range(N+1):\n",
    "        coeffsF_bis[i+(N+1)*j] = coeffsF[i]*coeffsG[j]"
   ]
  },
  {
   "cell_type": "code",
   "execution_count": 12,
   "metadata": {},
   "outputs": [],
   "source": [
    "def matricisize(M):\n",
    "    U = np.zeros((N+1,N+1))\n",
    "    for p in range(M.size):\n",
    "        i = p%(N+1)\n",
    "        j = p//(N+1)\n",
    "        U[i,j] = M[p]\n",
    "    return U"
   ]
  },
  {
   "cell_type": "code",
   "execution_count": 13,
   "metadata": {},
   "outputs": [],
   "source": [
    "def recon_f(x,y):\n",
    "    return np.sum(phi(x,n)*phi(y,m)*f(xrange[n])*g(yrange[m]) for (n,m) in itertools.product(range(N+1),range(N+1)))\n",
    "\n",
    "def graphe(lmda):\n",
    "    A = make_A(lmda)\n",
    "    \n",
    "    fig = plt.figure(0,figsize=(8,4))\n",
    "    ax0 = fig.add_subplot(121)\n",
    "    ax1 = fig.add_subplot(122)\n",
    "    \n",
    "    ax0.set_title(r'Solution approchée $u_h$')\n",
    "    ax1.set_title(r'Approximation de $f$ par éléments $\\mathrm{\\mathbb{P}}_1$')\n",
    "    \n",
    "    U = np.linalg.solve(A,coeffsF_bis)\n",
    "    coeffsU = matricisize(U)\n",
    "    \n",
    "    def u(x,y):\n",
    "        return np.sum(phi(x,n)*phi(y,m)*coeffsU[n,m] for (n,m) in itertools.product(range(N+1),range(N+1)))\n",
    "    \n",
    "    im0 = ax0.imshow(u(xrange,yrange),extent=[0,L,0,L])\n",
    "    im1 = ax1.imshow(recon_f(xrange,yrange),extent=[0,L,0,L])"
   ]
  },
  {
   "cell_type": "code",
   "execution_count": 14,
   "metadata": {
    "scrolled": false
   },
   "outputs": [
    {
     "data": {
      "image/png": "[encoded data removed]",
      "text/plain": [
       "<matplotlib.figure.Figure at 0x2042053e198>"
      ]
     },
     "metadata": {},
     "output_type": "display_data"
    }
   ],
   "source": [
    "graphe(-10)"
   ]
  },
  {
   "cell_type": "code",
   "execution_count": null,
   "metadata": {},
   "outputs": [],
   "source": []
  }
 ],
 "metadata": {
  "kernelspec": {
   "display_name": "Python 3",
   "language": "python",
   "name": "python3"
  },
  "language_info": {
   "codemirror_mode": {
    "name": "ipython",
    "version": 3
   },
   "file_extension": ".py",
   "mimetype": "text/x-python",
   "name": "python",
   "nbconvert_exporter": "python",
   "pygments_lexer": "ipython3",
   "version": "3.6.3"
  }
 },
 "nbformat": 4,
 "nbformat_minor": 2
}
